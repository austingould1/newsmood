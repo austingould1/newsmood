{
 "cells": [
  {
   "cell_type": "code",
   "execution_count": 1,
   "metadata": {
    "collapsed": true
   },
   "outputs": [],
   "source": [
    "# Initialize Sentiment Analyzer \n",
    "from vaderSentiment.vaderSentiment import SentimentIntensityAnalyzer\n",
    "import tweepy\n",
    "import time\n",
    "import pandas \n",
    "import matplotlib.pyplot as plt\n",
    "import requests as req\n",
    "import json\n",
    "import random \n",
    "import numpy\n",
    "analyzer = SentimentIntensityAnalyzer()\n",
    "consumer_key =\"OXIssui06lxnfblyDvyggPZDf\"\n",
    "consumer_secret =\"NrYzmgtyU9grTqJPXR1I9VRMJZ7ViIaYluLLSpqa0bQZ713Rli\"\n",
    "access_token =\"326281341-haVlmBoQsZbodflSAbbunuRwnqvuOEynygFeu4XZ\"\n",
    "access_secret = \"askACO40IXdUOqMvVcIEGW5lO1gW8zMwOUkGYeEa80XCK\"\n",
    "\n",
    "auth = tweepy.OAuthHandler(consumer_key, consumer_secret)\n",
    "auth.set_access_token(access_token, access_secret)\n",
    "api = tweepy.API(auth, parser=tweepy.parsers.JSONParser())\n"
   ]
  },
  {
   "cell_type": "code",
   "execution_count": null,
   "metadata": {
    "collapsed": true
   },
   "outputs": [],
   "source": []
  },
  {
   "cell_type": "code",
   "execution_count": 2,
   "metadata": {
    "collapsed": true
   },
   "outputs": [],
   "source": [
    "target_user = \"BBCWorld\"\n",
    "tweet_text=[]\n",
    "for x in range(5):\n",
    "    public_tweets = api.user_timeline(target_user, page=x)\n",
    "   \n",
    "    for tweet in public_tweets:\n",
    "        text = tweet[\"text\"]\n",
    "        tweet_text.append(text)\n",
    "\n",
    "\n",
    "# BBC (@BBCWorld) \n",
    "# CBS (@CBSNews)\n",
    "# CNN (@cnn)\n",
    "# Fox (@foxnews)\n",
    "# New York times (@nytimes)\n"
   ]
  },
  {
   "cell_type": "code",
   "execution_count": 3,
   "metadata": {},
   "outputs": [
    {
     "data": {
      "text/plain": [
       "100"
      ]
     },
     "execution_count": 3,
     "metadata": {},
     "output_type": "execute_result"
    }
   ],
   "source": [
    "len(tweet_text)"
   ]
  },
  {
   "cell_type": "code",
   "execution_count": 4,
   "metadata": {},
   "outputs": [
    {
     "data": {
      "text/plain": [
       "\"Mount Shinmoedake: Warning over Japan's James Bond volcano https://t.co/2ujbRh7XEC\""
      ]
     },
     "execution_count": 4,
     "metadata": {},
     "output_type": "execute_result"
    }
   ],
   "source": [
    "tweet_text[0]"
   ]
  },
  {
   "cell_type": "code",
   "execution_count": 5,
   "metadata": {
    "collapsed": true
   },
   "outputs": [],
   "source": [
    "compound_bbc=[]\n",
    "for bbctweet in tweet_text:\n",
    "    results = analyzer.polarity_scores(bbctweet)\n",
    "    compound = results[\"compound\"]\n",
    "    compound_bbc.append(compound)"
   ]
  },
  {
   "cell_type": "code",
   "execution_count": 6,
   "metadata": {
    "collapsed": true
   },
   "outputs": [],
   "source": [
    "target_user = \"CBSNews\"\n",
    "tweet_text=[]\n",
    "for x in range(5):\n",
    "    public_tweets = api.user_timeline(target_user, page=x)\n",
    "   \n",
    "    for tweet in public_tweets:\n",
    "        text = tweet[\"text\"]\n",
    "        tweet_text.append(text)\n"
   ]
  },
  {
   "cell_type": "code",
   "execution_count": 7,
   "metadata": {
    "collapsed": true
   },
   "outputs": [],
   "source": [
    "compound_cbs=[]\n",
    "for cbstweet in tweet_text:\n",
    "    results = analyzer.polarity_scores(cbstweet)\n",
    "    compound = results[\"compound\"]\n",
    "    compound_cbs.append(compound)"
   ]
  },
  {
   "cell_type": "code",
   "execution_count": 8,
   "metadata": {
    "collapsed": true
   },
   "outputs": [],
   "source": [
    "target_user = \"cnn\"\n",
    "tweet_text=[]\n",
    "for x in range(5):\n",
    "    public_tweets = api.user_timeline(target_user, page=x)\n",
    "   \n",
    "    for tweet in public_tweets:\n",
    "        text = tweet[\"text\"]\n",
    "        tweet_text.append(text)\n"
   ]
  },
  {
   "cell_type": "code",
   "execution_count": 9,
   "metadata": {
    "collapsed": true
   },
   "outputs": [],
   "source": [
    "compound_cnn=[]\n",
    "for cnntweet in tweet_text:\n",
    "    results = analyzer.polarity_scores(cnntweet)\n",
    "    compound = results[\"compound\"]\n",
    "    compound_cnn.append(compound)"
   ]
  },
  {
   "cell_type": "code",
   "execution_count": 10,
   "metadata": {
    "collapsed": true
   },
   "outputs": [],
   "source": [
    "target_user = \"foxnews\"\n",
    "tweet_text=[]\n",
    "for x in range(5):\n",
    "    public_tweets = api.user_timeline(target_user, page=x)\n",
    "   \n",
    "    for tweet in public_tweets:\n",
    "        text = tweet[\"text\"]\n",
    "        tweet_text.append(text)\n"
   ]
  },
  {
   "cell_type": "code",
   "execution_count": 11,
   "metadata": {
    "collapsed": true
   },
   "outputs": [],
   "source": [
    "compound_fox=[]\n",
    "for foxtweet in tweet_text:\n",
    "    results = analyzer.polarity_scores(foxtweet)\n",
    "    compound = results[\"compound\"]\n",
    "    compound_fox.append(compound)"
   ]
  },
  {
   "cell_type": "code",
   "execution_count": 12,
   "metadata": {
    "collapsed": true
   },
   "outputs": [],
   "source": [
    "target_user = \"nytimes\"\n",
    "tweet_text=[]\n",
    "for x in range(5):\n",
    "    public_tweets = api.user_timeline(target_user, page=x)\n",
    "   \n",
    "    for tweet in public_tweets:\n",
    "        text = tweet[\"text\"]\n",
    "        tweet_text.append(text)\n"
   ]
  },
  {
   "cell_type": "code",
   "execution_count": 13,
   "metadata": {
    "collapsed": true
   },
   "outputs": [],
   "source": [
    "compound_nytimes=[]\n",
    "for nytimestweet in tweet_text:\n",
    "    results = analyzer.polarity_scores(nytimestweet)\n",
    "    compound = results[\"compound\"]\n",
    "    compound_nytimes.append(compound)"
   ]
  },
  {
   "cell_type": "code",
   "execution_count": 14,
   "metadata": {},
   "outputs": [
    {
     "data": {
      "image/png": "[encoded data removed]",
      "text/plain": [
       "<matplotlib.figure.Figure at 0x1162b93c8>"
      ]
     },
     "metadata": {},
     "output_type": "display_data"
    }
   ],
   "source": [
    "# Build scatter plot for tracking tweet polarity by tweet history\n",
    "\n",
    "plt.figure(figsize=(10, 10))\n",
    "plt.scatter(x = range(100), y =compound_bbc, label=\"BBC News\")\n",
    "plt.scatter(x = range(100), y =compound_cbs, label=\"CBS\")\n",
    "plt.scatter(x = range(100), y =compound_cnn, label=\"CNN\")\n",
    "plt.scatter(x = range(100), y =compound_fox, label=\"FOX\")\n",
    "plt.scatter(x = range(100), y =compound_nytimes, label=\"NYTimes\")\n",
    "plt.xlim(100, -1)\n",
    "plt.xlabel(\"tweets ago\")\n",
    "plt.ylabel(\"tweets popularity\")\n",
    "plt.title(\"Sentiment Analysis of Media Tweets\")\n",
    "plt.show()"
   ]
  },
  {
   "cell_type": "code",
   "execution_count": 22,
   "metadata": {},
   "outputs": [
    {
     "ename": "NameError",
     "evalue": "name 'temperature' is not defined",
     "output_type": "error",
     "traceback": [
      "\u001b[0;31m---------------------------------------------------------------------------\u001b[0m",
      "\u001b[0;31mNameError\u001b[0m                                 Traceback (most recent call last)",
      "\u001b[0;32m<ipython-input-22-ab29f054522f>\u001b[0m in \u001b[0;36m<module>\u001b[0;34m()\u001b[0m\n\u001b[1;32m      2\u001b[0m \u001b[0;31m# * Save both a CSV of all data retrieved and png images for each scatter plot.\u001b[0m\u001b[0;34m\u001b[0m\u001b[0;34m\u001b[0m\u001b[0m\n\u001b[1;32m      3\u001b[0m plt.figure = pandas.DataFrame({ \n\u001b[0;32m----> 4\u001b[0;31m     \u001b[0;34m\"temperature\"\u001b[0m\u001b[0;34m:\u001b[0m \u001b[0mtemperature\u001b[0m\u001b[0;34m,\u001b[0m\u001b[0;34m\u001b[0m\u001b[0m\n\u001b[0m\u001b[1;32m      5\u001b[0m     \u001b[0;34m\"humidity\"\u001b[0m\u001b[0;34m:\u001b[0m \u001b[0mhumidity\u001b[0m\u001b[0;34m,\u001b[0m\u001b[0;34m\u001b[0m\u001b[0m\n\u001b[1;32m      6\u001b[0m     \u001b[0;34m\"clouds\"\u001b[0m\u001b[0;34m:\u001b[0m \u001b[0mclouds\u001b[0m\u001b[0;34m,\u001b[0m\u001b[0;34m\u001b[0m\u001b[0m\n",
      "\u001b[0;31mNameError\u001b[0m: name 'temperature' is not defined"
     ]
    }
   ],
   "source": [
    "\n",
    "# * Save both a CSV of all data retrieved and png images for each scatter plot.\n",
    "plt.figure = pandas.DataFrame({ \n",
    "    \"temperature\": temperature,\n",
    "    \"humidity\": humidity,\n",
    "    \"clouds\": clouds,\n",
    "    \"wind\": wind, \n",
    "    \"latitude\": latt\n",
    "    \n",
    "})\n",
    "district_summary_df.head()\n",
    "district_summary_df.to_csv(\"equator_csv.csv\",index=False)\n"
   ]
  },
  {
   "cell_type": "code",
   "execution_count": null,
   "metadata": {
    "collapsed": true
   },
   "outputs": [],
   "source": [
    "bbc_mean = numpy.mean(compound_bbc)"
   ]
  },
  {
   "cell_type": "code",
   "execution_count": 33,
   "metadata": {
    "scrolled": true
   },
   "outputs": [
    {
     "data": {
      "image/png": "[encoded data removed]",
      "text/plain": [
       "<matplotlib.figure.Figure at 0x11ed590f0>"
      ]
     },
     "metadata": {},
     "output_type": "display_data"
    }
   ],
   "source": [
    "# The second plot will be a bar plot visualizing the _overall_ sentiments of the last 100 tweets from each organization. For this plot, you will again aggregate the compound sentiments analyzed by VADE\n",
    "\n",
    "bbc_mean = numpy.mean(compound_bbc)\n",
    "thebbc, = plt.bar(left= 1, height= bbc_mean, color=\"skyblue\")\n",
    "thecbs, = plt.bar(left= 2, height= numpy.mean(compound_cbs), color=\"red\")\n",
    "thecnn, = plt.bar(left= 3, height= numpy.mean(compound_cnn), color=\"blue\")\n",
    "thefox, = plt.bar(left= 4, height= numpy.mean(compound_fox), color=\"green\")\n",
    "thenytimes, = plt.bar(left= 5, height= numpy.mean(compound_nytimes), color=\"yellow\")\n",
    "plt.legend([thebbc, thecbs, thecnn, thefox, thenytimes], ['thebbc', 'thecbs', 'thecnn', 'thefox', 'thenytimes'])\n",
    "plt.savefig('SentimentTweep.png')\n",
    "plt.show()\n"
   ]
  },
  {
   "cell_type": "code",
   "execution_count": 27,
   "metadata": {
    "scrolled": true
   },
   "outputs": [
    {
     "data": {
      "text/html": [
       "<div>\n",
       "<style>\n",
       "    .dataframe thead tr:only-child th {\n",
       "        text-align: right;\n",
       "    }\n",
       "\n",
       "    .dataframe thead th {\n",
       "        text-align: left;\n",
       "    }\n",
       "\n",
       "    .dataframe tbody tr th {\n",
       "        vertical-align: top;\n",
       "    }\n",
       "</style>\n",
       "<table border=\"1\" class=\"dataframe\">\n",
       "  <thead>\n",
       "    <tr style=\"text-align: right;\">\n",
       "      <th></th>\n",
       "      <th>bbc sent</th>\n",
       "      <th>cbs sent</th>\n",
       "      <th>cnn sent</th>\n",
       "      <th>fox sent</th>\n",
       "      <th>nytimes sent</th>\n",
       "    </tr>\n",
       "  </thead>\n",
       "  <tbody>\n",
       "    <tr>\n",
       "      <th>0</th>\n",
       "      <td>-0.3400</td>\n",
       "      <td>-0.7003</td>\n",
       "      <td>0.5994</td>\n",
       "      <td>0.0000</td>\n",
       "      <td>-0.0258</td>\n",
       "    </tr>\n",
       "    <tr>\n",
       "      <th>1</th>\n",
       "      <td>0.0000</td>\n",
       "      <td>-0.6705</td>\n",
       "      <td>-0.1260</td>\n",
       "      <td>0.0000</td>\n",
       "      <td>0.3612</td>\n",
       "    </tr>\n",
       "    <tr>\n",
       "      <th>2</th>\n",
       "      <td>-0.4767</td>\n",
       "      <td>-0.7845</td>\n",
       "      <td>0.3400</td>\n",
       "      <td>0.7269</td>\n",
       "      <td>0.0000</td>\n",
       "    </tr>\n",
       "    <tr>\n",
       "      <th>3</th>\n",
       "      <td>-0.8074</td>\n",
       "      <td>-0.4767</td>\n",
       "      <td>-0.6908</td>\n",
       "      <td>-0.5267</td>\n",
       "      <td>0.0000</td>\n",
       "    </tr>\n",
       "    <tr>\n",
       "      <th>4</th>\n",
       "      <td>-0.1027</td>\n",
       "      <td>0.0000</td>\n",
       "      <td>0.0000</td>\n",
       "      <td>-0.4019</td>\n",
       "      <td>0.0000</td>\n",
       "    </tr>\n",
       "  </tbody>\n",
       "</table>\n",
       "</div>"
      ],
      "text/plain": [
       "   bbc sent  cbs sent  cnn sent  fox sent  nytimes sent\n",
       "0   -0.3400   -0.7003    0.5994    0.0000       -0.0258\n",
       "1    0.0000   -0.6705   -0.1260    0.0000        0.3612\n",
       "2   -0.4767   -0.7845    0.3400    0.7269        0.0000\n",
       "3   -0.8074   -0.4767   -0.6908   -0.5267        0.0000\n",
       "4   -0.1027    0.0000    0.0000   -0.4019        0.0000"
      ]
     },
     "execution_count": 27,
     "metadata": {},
     "output_type": "execute_result"
    }
   ],
   "source": [
    "# # Export to CSV\n",
    "\n",
    "# * Save both a CSV of all data retrieved and png images for each scatter plot.\n",
    "tweet_text = pandas.DataFrame({ \n",
    "    \"bbc sent\": compound_bbc,\n",
    "    \"cbs sent\" : compound_cbs,\n",
    "    \"cnn sent\" : compound_cnn,\n",
    "    \"fox sent\" : compound_fox,\n",
    "    \"nytimes sent\" : compound_nytimes\n",
    "    \n",
    "    \n",
    "})\n",
    "tweet_text.head()\n",
    "# file_name = str(time.strftime(\"%m-%d-%y\")) + \"-tweets.csv\"\n",
    "# tweet_df.to_csv(\"analysis/\" + file_name, encoding=\"utf-8\")\n",
    "\n",
    "# # Create a legend\n",
    "# lgnd = plt.legend(fontsize=\"small\", mode=\"Expanded\", \n",
    "#                   numpoints=1, scatterpoints=1, \n",
    "#                   loc=\"upper left\", bbox_to_anchor=(1,1), title=\"Media Sources\", \n",
    "#                   labelspacing=0.5)\n",
    "\n",
    "# # Save the figure (and account for the legend being outside the plot when saving)\n",
    "# file_name = str(time.strftime(\"%m-%d-%y\")) + \"-Fig1.png\"\n",
    "# plt.savefig(\"analysis/\" + file_name, bbox_extra_artists=(lgnd, ), bbox_inches='tight')\n",
    "\n",
    "# ```python\n",
    "# # Average all polarities by news source\n",
    "# tweet_df_polarity = tweet_df.groupby([\"tweet_source\"]).mean()[\"tweet_vader_score\"]\n",
    "\n",
    "# # View the polarities\n",
    "# pd.DataFrame(tweet_df_polarity)\n",
    "\n",
    "#I am still struggling with this to understand the difference in overall sentiment, and polarity. "
   ]
  },
  {
   "cell_type": "code",
   "execution_count": 30,
   "metadata": {},
   "outputs": [],
   "source": [
    "tweet_text.to_csv(\"TweetSentiment.csv\")"
   ]
  },
  {
   "cell_type": "markdown",
   "metadata": {},
   "source": [
    "# News Media has negative sentiment overall\n",
    "* The NYTimes has the most positive sentiment out of the last 100 tweets\n",
    "* The CBS has the most negative"
   ]
  },
  {
   "cell_type": "code",
   "execution_count": null,
   "metadata": {
    "collapsed": true
   },
   "outputs": [],
   "source": []
  }
 ],
 "metadata": {
  "kernelspec": {
   "display_name": "Python 3",
   "language": "python",
   "name": "python3"
  },
  "language_info": {
   "codemirror_mode": {
    "name": "ipython",
    "version": 3
   },
   "file_extension": ".py",
   "mimetype": "text/x-python",
   "name": "python",
   "nbconvert_exporter": "python",
   "pygments_lexer": "ipython3",
   "version": "3.6.2"
  }
 },
 "nbformat": 4,
 "nbformat_minor": 2
}
