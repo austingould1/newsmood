{
 "cells": [
  {
   "cell_type": "code",
   "execution_count": 1,
   "metadata": {
    "collapsed": true
   },
   "outputs": [],
   "source": [
    "# Initialize Sentiment Analyzer \n",
    "from vaderSentiment.vaderSentiment import SentimentIntensityAnalyzer\n",
    "import tweepy\n",
    "import time\n",
    "import pandas \n",
    "import matplotlib.pyplot as plt\n",
    "import requests as req\n",
    "import json\n",
    "import random \n",
    "import numpy\n",
    "analyzer = SentimentIntensityAnalyzer()\n",
    "consumer_key =\"OXIssui06lxnfblyDvyggPZDf\"\n",
    "consumer_secret =\"NrYzmgtyU9grTqJPXR1I9VRMJZ7ViIaYluLLSpqa0bQZ713Rli\"\n",
    "access_token =\"326281341-haVlmBoQsZbodflSAbbunuRwnqvuOEynygFeu4XZ\"\n",
    "access_secret = \"askACO40IXdUOqMvVcIEGW5lO1gW8zMwOUkGYeEa80XCK\"\n",
    "\n",
    "auth = tweepy.OAuthHandler(consumer_key, consumer_secret)\n",
    "auth.set_access_token(access_token, access_secret)\n",
    "api = tweepy.API(auth, parser=tweepy.parsers.JSONParser())\n"
   ]
  },
  {
   "cell_type": "code",
   "execution_count": null,
   "metadata": {
    "collapsed": true
   },
   "outputs": [],
   "source": []
  },
  {
   "cell_type": "code",
   "execution_count": 2,
   "metadata": {
    "collapsed": true
   },
   "outputs": [],
   "source": [
    "target_user = \"BBCWorld\"\n",
    "tweet_text=[]\n",
    "for x in range(5):\n",
    "    public_tweets = api.user_timeline(target_user, page=x)\n",
    "   \n",
    "    for tweet in public_tweets:\n",
    "        text = tweet[\"text\"]\n",
    "        tweet_text.append(text)\n",
    "\n",
    "\n",
    "# BBC (@BBCWorld) \n",
    "# CBS (@CBSNews)\n",
    "# CNN (@cnn)\n",
    "# Fox (@foxnews)\n",
    "# New York times (@nytimes)\n"
   ]
  },
  {
   "cell_type": "code",
   "execution_count": 3,
   "metadata": {},
   "outputs": [
    {
     "data": {
      "text/plain": [
       "100"
      ]
     },
     "execution_count": 3,
     "metadata": {},
     "output_type": "execute_result"
    }
   ],
   "source": [
    "len(tweet_text)"
   ]
  },
  {
   "cell_type": "code",
   "execution_count": 4,
   "metadata": {},
   "outputs": [
    {
     "data": {
      "text/plain": [
       "'North Carolina officer charged for tasing jaywalker https://t.co/k56Z4x82OQ'"
      ]
     },
     "execution_count": 4,
     "metadata": {},
     "output_type": "execute_result"
    }
   ],
   "source": [
    "tweet_text[0]"
   ]
  },
  {
   "cell_type": "code",
   "execution_count": 5,
   "metadata": {
    "collapsed": true
   },
   "outputs": [],
   "source": [
    "compound_bbc=[]\n",
    "for bbctweet in tweet_text:\n",
    "    results = analyzer.polarity_scores(bbctweet)\n",
    "    compound = results[\"compound\"]\n",
    "    compound_bbc.append(compound)"
   ]
  },
  {
   "cell_type": "code",
   "execution_count": 6,
   "metadata": {
    "collapsed": true
   },
   "outputs": [],
   "source": [
    "target_user = \"CBSNews\"\n",
    "tweet_text=[]\n",
    "for x in range(5):\n",
    "    public_tweets = api.user_timeline(target_user, page=x)\n",
    "   \n",
    "    for tweet in public_tweets:\n",
    "        text = tweet[\"text\"]\n",
    "        tweet_text.append(text)\n"
   ]
  },
  {
   "cell_type": "code",
   "execution_count": 7,
   "metadata": {
    "collapsed": true
   },
   "outputs": [],
   "source": [
    "compound_cbs=[]\n",
    "for cbstweet in tweet_text:\n",
    "    results = analyzer.polarity_scores(cbstweet)\n",
    "    compound = results[\"compound\"]\n",
    "    compound_cbs.append(compound)"
   ]
  },
  {
   "cell_type": "code",
   "execution_count": 8,
   "metadata": {
    "collapsed": true
   },
   "outputs": [],
   "source": [
    "target_user = \"cnn\"\n",
    "tweet_text=[]\n",
    "for x in range(5):\n",
    "    public_tweets = api.user_timeline(target_user, page=x)\n",
    "   \n",
    "    for tweet in public_tweets:\n",
    "        text = tweet[\"text\"]\n",
    "        tweet_text.append(text)\n"
   ]
  },
  {
   "cell_type": "code",
   "execution_count": 9,
   "metadata": {
    "collapsed": true
   },
   "outputs": [],
   "source": [
    "compound_cnn=[]\n",
    "for cnntweet in tweet_text:\n",
    "    results = analyzer.polarity_scores(cnntweet)\n",
    "    compound = results[\"compound\"]\n",
    "    compound_cnn.append(compound)"
   ]
  },
  {
   "cell_type": "code",
   "execution_count": 10,
   "metadata": {
    "collapsed": true
   },
   "outputs": [],
   "source": [
    "target_user = \"foxnews\"\n",
    "tweet_text=[]\n",
    "for x in range(5):\n",
    "    public_tweets = api.user_timeline(target_user, page=x)\n",
    "   \n",
    "    for tweet in public_tweets:\n",
    "        text = tweet[\"text\"]\n",
    "        tweet_text.append(text)\n"
   ]
  },
  {
   "cell_type": "code",
   "execution_count": 11,
   "metadata": {
    "collapsed": true
   },
   "outputs": [],
   "source": [
    "compound_fox=[]\n",
    "for foxtweet in tweet_text:\n",
    "    results = analyzer.polarity_scores(foxtweet)\n",
    "    compound = results[\"compound\"]\n",
    "    compound_fox.append(compound)"
   ]
  },
  {
   "cell_type": "code",
   "execution_count": 12,
   "metadata": {
    "collapsed": true
   },
   "outputs": [],
   "source": [
    "target_user = \"nytimes\"\n",
    "tweet_text=[]\n",
    "for x in range(5):\n",
    "    public_tweets = api.user_timeline(target_user, page=x)\n",
    "   \n",
    "    for tweet in public_tweets:\n",
    "        text = tweet[\"text\"]\n",
    "        tweet_text.append(text)\n"
   ]
  },
  {
   "cell_type": "code",
   "execution_count": 13,
   "metadata": {
    "collapsed": true
   },
   "outputs": [],
   "source": [
    "compound_nytimes=[]\n",
    "for nytimestweet in tweet_text:\n",
    "    results = analyzer.polarity_scores(nytimestweet)\n",
    "    compound = results[\"compound\"]\n",
    "    compound_nytimes.append(compound)"
   ]
  },
  {
   "cell_type": "code",
   "execution_count": 14,
   "metadata": {},
   "outputs": [
    {
     "data": {
      "image/png": "[encoded data removed]",
      "text/plain": [
       "<matplotlib.figure.Figure at 0x10abc4630>"
      ]
     },
     "metadata": {},
     "output_type": "display_data"
    }
   ],
   "source": [
    "# Build scatter plot for tracking tweet polarity by tweet history\n",
    "\n",
    "plt.figure(figsize=(10, 10))\n",
    "plt.scatter(x = range(100), y =compound_bbc, label=\"BBC News\")\n",
    "plt.scatter(x = range(100), y =compound_cbs, label=\"CBS\")\n",
    "plt.scatter(x = range(100), y =compound_cnn, label=\"CNN\")\n",
    "plt.scatter(x = range(100), y =compound_fox, label=\"FOX\")\n",
    "plt.scatter(x = range(100), y =compound_nytimes, label=\"NYTimes\")\n",
    "plt.xlim(100, -1)\n",
    "plt.xlabel(\"tweets ago\")\n",
    "plt.ylabel(\"tweets popularity\")\n",
    "plt.title(\"Sentiment Analysis of Media Tweets\")\n",
    "plt.show()"
   ]
  },
  {
   "cell_type": "code",
   "execution_count": 26,
   "metadata": {
    "collapsed": true
   },
   "outputs": [],
   "source": [
    "bbc_mean = numpy.mean(compound_bbc)"
   ]
  },
  {
   "cell_type": "code",
   "execution_count": 27,
   "metadata": {},
   "outputs": [
    {
     "name": "stderr",
     "output_type": "stream",
     "text": [
      "/Users/austingould/anaconda3/lib/python3.6/site-packages/matplotlib/legend.py:634: UserWarning: Legend does not support [-0.2023, -0.6597, -0.4767, -0.6697, -0.7096, -0.6486, 0.0, 0.0, 0.0, 0.0, 0.0, 0.0, 0.0531, -0.7096, 0.2263, 0.0, 0.0, 0.0516, -0.5719, -0.296, -0.2023, -0.6597, -0.4767, -0.6697, -0.7096, -0.6486, 0.0, 0.0, 0.0, 0.0, 0.0, 0.0, 0.0531, -0.7096, 0.2263, 0.0, 0.0, 0.0516, -0.5719, -0.296, 0.0, -0.6486, -0.5994, -0.4215, 0.4019, 0.0, -0.8074, 0.2023, -0.7717, 0.0, 0.2415, 0.2732, -0.128, -0.5994, 0.0, -0.2023, 0.0, 0.0, 0.0, 0.0, 0.2732, 0.2732, 0.0, 0.3612, 0.0, 0.0, 0.3612, 0.0, 0.0, 0.0, -0.296, 0.0, 0.3818, 0.6705, 0.0, -0.296, 0.0, -0.3612, 0.0516, 0.0772, 0.2023, 0.3182, -0.4019, 0.3612, 0.0, 0.0, 0.0, 0.0, 0.0, 0.0, -0.25, 0.0, 0.1406, 0.296, -0.1027, 0.0, 0.0, -0.6486, -0.7579, -0.4767] instances.\n",
      "A proxy artist may be used instead.\n",
      "See: http://matplotlib.org/users/legend_guide.html#using-proxy-artist\n",
      "  \"#using-proxy-artist\".format(orig_handle)\n",
      "/Users/austingould/anaconda3/lib/python3.6/site-packages/matplotlib/legend.py:634: UserWarning: Legend does not support [0.4215, -0.2732, 0.0, -0.1027, -0.4019, -0.34, 0.0, 0.2649, 0.505, 0.4767, 0.4019, 0.0, 0.2732, -0.5267, 0.7351, 0.5423, -0.4404, 0.4019, 0.34, -0.6369, 0.4215, -0.2732, 0.0, -0.1027, -0.4019, -0.34, 0.0, 0.2649, 0.505, 0.4767, 0.4019, 0.0, 0.2732, -0.5267, 0.7351, 0.5423, -0.4404, 0.4019, 0.34, -0.6369, 0.3415, 0.0, -0.34, -0.4767, -0.2648, 0.0, -0.6597, -0.8591, 0.8074, -0.6124, -0.4019, 0.541, 0.1779, 0.0, 0.0, 0.0, -0.296, 0.8126, 0.0, 0.0, 0.0, 0.6124, 0.2023, -0.2263, -0.8402, 0.4215, -0.5719, 0.3182, 0.3818, 0.0, 0.3612, 0.0258, -0.6486, 0.0, 0.5106, 0.0, -0.8402, -0.4767, 0.0, -0.0424, -0.2732, -0.3182, 0.0, -0.6705, 0.0, 0.0, 0.4939, 0.2732, 0.4019, 0.0, 0.296, 0.7579, 0.0, 0.0, 0.25, 0.4588, 0.0516, -0.5526, -0.6908, 0.0] instances.\n",
      "A proxy artist may be used instead.\n",
      "See: http://matplotlib.org/users/legend_guide.html#using-proxy-artist\n",
      "  \"#using-proxy-artist\".format(orig_handle)\n",
      "/Users/austingould/anaconda3/lib/python3.6/site-packages/matplotlib/axes/_axes.py:545: UserWarning: No labelled objects found. Use label='...' kwarg on individual plots.\n",
      "  warnings.warn(\"No labelled objects found. \"\n"
     ]
    },
    {
     "data": {
      "image/png": "[encoded data removed]",
      "text/plain": [
       "<matplotlib.figure.Figure at 0x10aa06cc0>"
      ]
     },
     "metadata": {},
     "output_type": "display_data"
    }
   ],
   "source": [
    "# The second plot will be a bar plot visualizing the _overall_ sentiments of the last 100 tweets from each organization. For this plot, you will again aggregate the compound sentiments analyzed by VADE\n",
    "\n",
    "bbc_mean = numpy.mean(compound_bbc)\n",
    "plt.bar(left= 1, height= bbc_mean, color=\"skyblue\")\n",
    "plt.bar(left= 2, height= numpy.mean(compound_cbs), color=\"red\")\n",
    "plt.bar(left= 3, height= numpy.mean(compound_cnn), color=\"blue\")\n",
    "plt.bar(left= 4, height= numpy.mean(compound_fox), color=\"green\")\n",
    "plt.bar(left= 5, height= numpy.mean(compound_nytimes), color=\"yellow\")\n",
    "plt.legend((compound_bbc, compound_cbs),('BBC','CBSNews'))\n",
    "lgnd = plt.legend(fontsize=\"small\", mode=\"Expanded\", \n",
    "                  numpoints=1, bar=1, \n",
    "                  loc=\"upper left\", bbox_to_anchor=(1,1), title=\"Media Sources\", \n",
    "                  labelspacing=0.5)\n",
    "plt.show()\n"
   ]
  },
  {
   "cell_type": "code",
   "execution_count": null,
   "metadata": {
    "collapsed": true
   },
   "outputs": [],
   "source": [
    "# # Export to CSV\n",
    "# file_name = str(time.strftime(\"%m-%d-%y\")) + \"-tweets.csv\"\n",
    "# tweet_df.to_csv(\"analysis/\" + file_name, encoding=\"utf-8\")\n",
    "\n",
    "# # Create a legend\n",
    "# lgnd = plt.legend(fontsize=\"small\", mode=\"Expanded\", \n",
    "#                   numpoints=1, scatterpoints=1, \n",
    "#                   loc=\"upper left\", bbox_to_anchor=(1,1), title=\"Media Sources\", \n",
    "#                   labelspacing=0.5)\n",
    "\n",
    "# # Save the figure (and account for the legend being outside the plot when saving)\n",
    "# file_name = str(time.strftime(\"%m-%d-%y\")) + \"-Fig1.png\"\n",
    "# plt.savefig(\"analysis/\" + file_name, bbox_extra_artists=(lgnd, ), bbox_inches='tight')\n",
    "\n",
    "# ```python\n",
    "# # Average all polarities by news source\n",
    "# tweet_df_polarity = tweet_df.groupby([\"tweet_source\"]).mean()[\"tweet_vader_score\"]\n",
    "\n",
    "# # View the polarities\n",
    "# pd.DataFrame(tweet_df_polarity)\n",
    "\n",
    "I am still struggling with this to understand the difference in overall sentiment, and polarity. "
   ]
  }
 ],
 "metadata": {
  "kernelspec": {
   "display_name": "Python 3",
   "language": "python",
   "name": "python3"
  },
  "language_info": {
   "codemirror_mode": {
    "name": "ipython",
    "version": 3
   },
   "file_extension": ".py",
   "mimetype": "text/x-python",
   "name": "python",
   "nbconvert_exporter": "python",
   "pygments_lexer": "ipython3",
   "version": "3.6.2"
  }
 },
 "nbformat": 4,
 "nbformat_minor": 2
}
