{
 "cells": [
  {
   "cell_type": "code",
   "execution_count": 75,
   "metadata": {
    "collapsed": true
   },
   "outputs": [],
   "source": [
    "# Initialize Sentiment Analyzer \n",
    "from vaderSentiment.vaderSentiment import SentimentIntensityAnalyzer\n",
    "import tweepy\n",
    "import time\n",
    "import pandas \n",
    "import matplotlib.pyplot as plt\n",
    "import requests as req\n",
    "import json\n",
    "import random \n",
    "import numpy\n",
    "analyzer = SentimentIntensityAnalyzer()\n",
    "consumer_key =\"OXIssui06lxnfblyDvyggPZDf\"\n",
    "consumer_secret =\"NrYzmgtyU9grTqJPXR1I9VRMJZ7ViIaYluLLSpqa0bQZ713Rli\"\n",
    "access_token =\"326281341-haVlmBoQsZbodflSAbbunuRwnqvuOEynygFeu4XZ\"\n",
    "access_secret = \"askACO40IXdUOqMvVcIEGW5lO1gW8zMwOUkGYeEa80XCK\"\n",
    "\n",
    "auth = tweepy.OAuthHandler(consumer_key, consumer_secret)\n",
    "auth.set_access_token(access_token, access_secret)\n",
    "api = tweepy.API(auth, parser=tweepy.parsers.JSONParser())\n"
   ]
  },
  {
   "cell_type": "code",
   "execution_count": 76,
   "metadata": {
    "collapsed": true
   },
   "outputs": [],
   "source": [
    "target_user = \"BBCWorld\"\n",
    "tweet_text=[]\n",
    "for x in range(5):\n",
    "    public_tweets = api.user_timeline(target_user, page=x)\n",
    "   \n",
    "    for tweet in public_tweets:\n",
    "        text = tweet[\"text\"]\n",
    "        tweet_text.append(text)\n",
    "\n",
    "\n",
    "# BBC (@BBCWorld) \n",
    "# CBS (@CBSNews)\n",
    "# CNN (@cnn)\n",
    "# Fox (@foxnews)\n",
    "# New York times (@nytimes)\n"
   ]
  },
  {
   "cell_type": "code",
   "execution_count": 77,
   "metadata": {},
   "outputs": [
    {
     "data": {
      "text/plain": [
       "100"
      ]
     },
     "execution_count": 77,
     "metadata": {},
     "output_type": "execute_result"
    }
   ],
   "source": [
    "len(tweet_text)"
   ]
  },
  {
   "cell_type": "code",
   "execution_count": 78,
   "metadata": {},
   "outputs": [
    {
     "data": {
      "text/plain": [
       "'Inside an IDF counter-terror training exercise https://t.co/4j5QH6fbwV'"
      ]
     },
     "execution_count": 78,
     "metadata": {},
     "output_type": "execute_result"
    }
   ],
   "source": [
    "tweet_text[0]"
   ]
  },
  {
   "cell_type": "code",
   "execution_count": 79,
   "metadata": {
    "collapsed": true
   },
   "outputs": [],
   "source": [
    "compound_bbc=[]\n",
    "for bbctweet in tweet_text:\n",
    "    results = analyzer.polarity_scores(bbctweet)\n",
    "    compound = results[\"compound\"]\n",
    "    compound_bbc.append(compound)"
   ]
  },
  {
   "cell_type": "code",
   "execution_count": 80,
   "metadata": {
    "collapsed": true
   },
   "outputs": [],
   "source": [
    "target_user = \"CBSNews\"\n",
    "tweet_text=[]\n",
    "for x in range(5):\n",
    "    public_tweets = api.user_timeline(target_user, page=x)\n",
    "   \n",
    "    for tweet in public_tweets:\n",
    "        text = tweet[\"text\"]\n",
    "        tweet_text.append(text)\n"
   ]
  },
  {
   "cell_type": "code",
   "execution_count": 81,
   "metadata": {
    "collapsed": true
   },
   "outputs": [],
   "source": [
    "compound_cbs=[]\n",
    "for cbstweet in tweet_text:\n",
    "    results = analyzer.polarity_scores(cbstweet)\n",
    "    compound = results[\"compound\"]\n",
    "    compound_cbs.append(compound)"
   ]
  },
  {
   "cell_type": "code",
   "execution_count": 82,
   "metadata": {
    "collapsed": true
   },
   "outputs": [],
   "source": [
    "target_user = \"cnn\"\n",
    "tweet_text=[]\n",
    "for x in range(5):\n",
    "    public_tweets = api.user_timeline(target_user, page=x)\n",
    "   \n",
    "    for tweet in public_tweets:\n",
    "        text = tweet[\"text\"]\n",
    "        tweet_text.append(text)\n"
   ]
  },
  {
   "cell_type": "code",
   "execution_count": 83,
   "metadata": {
    "collapsed": true
   },
   "outputs": [],
   "source": [
    "compound_cnn=[]\n",
    "for cnntweet in tweet_text:\n",
    "    results = analyzer.polarity_scores(cnntweet)\n",
    "    compound = results[\"compound\"]\n",
    "    compound_cnn.append(compound)"
   ]
  },
  {
   "cell_type": "code",
   "execution_count": 84,
   "metadata": {
    "collapsed": true
   },
   "outputs": [],
   "source": [
    "target_user = \"foxnews\"\n",
    "tweet_text=[]\n",
    "for x in range(5):\n",
    "    public_tweets = api.user_timeline(target_user, page=x)\n",
    "   \n",
    "    for tweet in public_tweets:\n",
    "        text = tweet[\"text\"]\n",
    "        tweet_text.append(text)\n"
   ]
  },
  {
   "cell_type": "code",
   "execution_count": 85,
   "metadata": {
    "collapsed": true
   },
   "outputs": [],
   "source": [
    "compound_fox=[]\n",
    "for foxtweet in tweet_text:\n",
    "    results = analyzer.polarity_scores(foxtweet)\n",
    "    compound = results[\"compound\"]\n",
    "    compound_fox.append(compound)"
   ]
  },
  {
   "cell_type": "code",
   "execution_count": 86,
   "metadata": {
    "collapsed": true
   },
   "outputs": [],
   "source": [
    "target_user = \"nytimes\"\n",
    "tweet_text=[]\n",
    "for x in range(5):\n",
    "    public_tweets = api.user_timeline(target_user, page=x)\n",
    "   \n",
    "    for tweet in public_tweets:\n",
    "        text = tweet[\"text\"]\n",
    "        tweet_text.append(text)\n"
   ]
  },
  {
   "cell_type": "code",
   "execution_count": 87,
   "metadata": {
    "collapsed": true
   },
   "outputs": [],
   "source": [
    "compound_nytimes=[]\n",
    "for nytimestweet in tweet_text:\n",
    "    results = analyzer.polarity_scores(nytimestweet)\n",
    "    compound = results[\"compound\"]\n",
    "    compound_nytimes.append(compound)"
   ]
  },
  {
   "cell_type": "code",
   "execution_count": 88,
   "metadata": {},
   "outputs": [
    {
     "data": {
      "image/png": "[encoded data removed]",
      "text/plain": [
       "<matplotlib.figure.Figure at 0x114be6438>"
      ]
     },
     "metadata": {},
     "output_type": "display_data"
    }
   ],
   "source": [
    "plt.figure(figsize=(10, 10))\n",
    "plt.scatter(x = range(100), y =compound_bbc, label=\"BBC News\")\n",
    "plt.scatter(x = range(100), y =compound_cbs, label=\"CBS\")\n",
    "plt.scatter(x = range(100), y =compound_cnn, label=\"CNN\")\n",
    "plt.scatter(x = range(100), y =compound_fox, label=\"FOX\")\n",
    "plt.scatter(x = range(100), y =compound_nytimes, label=\"NYTimes\")\n",
    "plt.xlim(100, -1)\n",
    "plt.xlabel(\"tweets ago\")\n",
    "plt.ylabel(\"tweets popularity\")\n",
    "plt.title(\"Sentiment Analysis of Media Tweets\")\n",
    "plt.legend()\n",
    "\n",
    "plt.show()\n",
    "\n"
   ]
  },
  {
   "cell_type": "code",
   "execution_count": 89,
   "metadata": {},
   "outputs": [
    {
     "data": {
      "text/plain": [
       "100"
      ]
     },
     "execution_count": 89,
     "metadata": {},
     "output_type": "execute_result"
    }
   ],
   "source": [
    "len(compound_bbc)"
   ]
  },
  {
   "cell_type": "code",
   "execution_count": 93,
   "metadata": {},
   "outputs": [
    {
     "ename": "TypeError",
     "evalue": "bar() missing 1 required positional argument: 'left'",
     "output_type": "error",
     "traceback": [
      "\u001b[0;31m---------------------------------------------------------------------------\u001b[0m",
      "\u001b[0;31mTypeError\u001b[0m                                 Traceback (most recent call last)",
      "\u001b[0;32m<ipython-input-93-9659a6ab0e47>\u001b[0m in \u001b[0;36m<module>\u001b[0;34m()\u001b[0m\n\u001b[1;32m      1\u001b[0m \u001b[0;31m# The second plot will be a bar plot visualizing the _overall_ sentiments of the last 100 tweets from each organization. For this plot, you will again aggregate the compound sentiments analyzed by VADE\u001b[0m\u001b[0;34m\u001b[0m\u001b[0;34m\u001b[0m\u001b[0m\n\u001b[1;32m      2\u001b[0m \u001b[0mbbc_mean\u001b[0m \u001b[0;34m=\u001b[0m \u001b[0mnumpy\u001b[0m\u001b[0;34m.\u001b[0m\u001b[0mmean\u001b[0m\u001b[0;34m(\u001b[0m\u001b[0mcompound_bbc\u001b[0m\u001b[0;34m)\u001b[0m\u001b[0;34m\u001b[0m\u001b[0m\n\u001b[0;32m----> 3\u001b[0;31m \u001b[0mplt\u001b[0m\u001b[0;34m.\u001b[0m\u001b[0mbar\u001b[0m\u001b[0;34m(\u001b[0m\u001b[0mx\u001b[0m\u001b[0;34m=\u001b[0m\u001b[0;36m0\u001b[0m\u001b[0;34m,\u001b[0m \u001b[0mheight\u001b[0m\u001b[0;34m=\u001b[0m \u001b[0mbbc_mean\u001b[0m\u001b[0;34m,\u001b[0m \u001b[0malign\u001b[0m\u001b[0;34m=\u001b[0m\u001b[0;34m'center'\u001b[0m\u001b[0;34m)\u001b[0m\u001b[0;34m\u001b[0m\u001b[0m\n\u001b[0m\u001b[1;32m      4\u001b[0m \u001b[0;31m# plt.bar(x=1, height= numpy.mean(compound_cbs))\u001b[0m\u001b[0;34m\u001b[0m\u001b[0;34m\u001b[0m\u001b[0m\n\u001b[1;32m      5\u001b[0m \u001b[0;31m# plt.bar(x=2, height= numpy.mean(compound_cnn))\u001b[0m\u001b[0;34m\u001b[0m\u001b[0;34m\u001b[0m\u001b[0m\n",
      "\u001b[0;31mTypeError\u001b[0m: bar() missing 1 required positional argument: 'left'"
     ]
    }
   ],
   "source": [
    "# The second plot will be a bar plot visualizing the _overall_ sentiments of the last 100 tweets from each organization. For this plot, you will again aggregate the compound sentiments analyzed by VADE\n",
    "bbc_mean = numpy.mean(compound_bbc)\n",
    "plt.bar(x=0, height= bbc_mean, align='center')\n",
    "# plt.bar(x=1, height= numpy.mean(compound_cbs))\n",
    "# plt.bar(x=2, height= numpy.mean(compound_cnn))\n",
    "# plt.bar(x=3, height= numpy.mean(compound_fox))\n",
    "# plt.bar(x=4, height= numpy.mean(compound_nytimes))\n",
    "plt.show()"
   ]
  },
  {
   "cell_type": "code",
   "execution_count": null,
   "metadata": {
    "collapsed": true
   },
   "outputs": [],
   "source": []
  },
  {
   "cell_type": "code",
   "execution_count": null,
   "metadata": {
    "collapsed": true
   },
   "outputs": [],
   "source": []
  }
 ],
 "metadata": {
  "kernelspec": {
   "display_name": "Python 3",
   "language": "python",
   "name": "python3"
  },
  "language_info": {
   "codemirror_mode": {
    "name": "ipython",
    "version": 3
   },
   "file_extension": ".py",
   "mimetype": "text/x-python",
   "name": "python",
   "nbconvert_exporter": "python",
   "pygments_lexer": "ipython3",
   "version": "3.6.2"
  }
 },
 "nbformat": 4,
 "nbformat_minor": 2
}
