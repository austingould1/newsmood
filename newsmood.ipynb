{
 "cells": [
  {
   "cell_type": "code",
   "execution_count": 4,
   "metadata": {},
   "outputs": [],
   "source": [
    "# Initialize Sentiment Analyzer \n",
    "from vaderSentiment.vaderSentiment import SentimentIntensityAnalyzer\n",
    "import tweepy\n",
    "import time\n",
    "import pandas \n",
    "import matplotlib.pyplot as plt\n",
    "import requests as req\n",
    "import json\n",
    "import random \n",
    "import numpy\n",
    "analyzer = SentimentIntensityAnalyzer()\n",
    "consumer_key =\"OXIssui06lxnfblyDvyggPZDf\"\n",
    "consumer_secret =\"NrYzmgtyU9grTqJPXR1I9VRMJZ7ViIaYluLLSpqa0bQZ713Rli\"\n",
    "access_token =\"\t326281341-haVlmBoQsZbodflSAbbunuRwnqvuOEynygFeu4XZ\"\n",
    "access_secret = \"askACO40IXdUOqMvVcIEGW5lO1gW8zMwOUkGYeEa80XCK\"\n",
    "\n",
    "auth = tweepy.OAuthHandler(consumer_key, consumer_secret)\n",
    "auth.set_access_token(access_token, access_secret)\n",
    "api = tweepy.API(auth, parser=tweepy.parsers.JSONParser())\n"
   ]
  },
  {
   "cell_type": "code",
   "execution_count": null,
   "metadata": {
    "collapsed": true
   },
   "outputs": [],
   "source": [
    "# BBC (@BBCWorld) \n",
    "# CBS (@CBSNews)\n",
    "# CNN (@cnn)\n",
    "# Fox (@foxnews)\n",
    "# New York times (@nytimes)"
   ]
  }
 ],
 "metadata": {
  "kernelspec": {
   "display_name": "Python 3",
   "language": "python",
   "name": "python3"
  },
  "language_info": {
   "codemirror_mode": {
    "name": "ipython",
    "version": 3
   },
   "file_extension": ".py",
   "mimetype": "text/x-python",
   "name": "python",
   "nbconvert_exporter": "python",
   "pygments_lexer": "ipython3",
   "version": "3.6.2"
  }
 },
 "nbformat": 4,
 "nbformat_minor": 2
}
