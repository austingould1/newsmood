{
 "cells": [
  {
   "cell_type": "code",
   "execution_count": 1,
   "metadata": {
    "collapsed": true
   },
   "outputs": [],
   "source": [
    "# Initialize Sentiment Analyzer \n",
    "from vaderSentiment.vaderSentiment import SentimentIntensityAnalyzer\n",
    "import tweepy\n",
    "import time\n",
    "import pandas \n",
    "import matplotlib.pyplot as plt\n",
    "import requests as req\n",
    "import json\n",
    "import random \n",
    "import numpy\n",
    "analyzer = SentimentIntensityAnalyzer()\n",
    "consumer_key =\"OXIssui06lxnfblyDvyggPZDf\"\n",
    "consumer_secret =\"NrYzmgtyU9grTqJPXR1I9VRMJZ7ViIaYluLLSpqa0bQZ713Rli\"\n",
    "access_token =\"326281341-haVlmBoQsZbodflSAbbunuRwnqvuOEynygFeu4XZ\"\n",
    "access_secret = \"askACO40IXdUOqMvVcIEGW5lO1gW8zMwOUkGYeEa80XCK\"\n",
    "\n",
    "auth = tweepy.OAuthHandler(consumer_key, consumer_secret)\n",
    "auth.set_access_token(access_token, access_secret)\n",
    "api = tweepy.API(auth, parser=tweepy.parsers.JSONParser())"
   ]
  },
  {
   "cell_type": "code",
   "execution_count": 2,
   "metadata": {
    "collapsed": true
   },
   "outputs": [],
   "source": [
    "target_user = \"realDonaldTrump\"\n",
    "tweet_text=[]\n",
    "for x in range(5):\n",
    "    public_tweets = api.user_timeline(target_user, page=x)\n",
    "   \n",
    "    for tweet in public_tweets:\n",
    "        text = tweet[\"text\"]\n",
    "        tweet_text.append(text)\n"
   ]
  },
  {
   "cell_type": "code",
   "execution_count": 4,
   "metadata": {},
   "outputs": [
    {
     "data": {
      "text/plain": [
       "100"
      ]
     },
     "execution_count": 4,
     "metadata": {},
     "output_type": "execute_result"
    }
   ],
   "source": [
    "len(tweet_text)"
   ]
  },
  {
   "cell_type": "code",
   "execution_count": 5,
   "metadata": {},
   "outputs": [
    {
     "data": {
      "text/plain": [
       "'The Gridiron Dinner last night was great fun. I am accomplishing a lot in Washington and have never had a better ti… https://t.co/BZHVReTuYi'"
      ]
     },
     "execution_count": 5,
     "metadata": {},
     "output_type": "execute_result"
    }
   ],
   "source": [
    "tweet_text[0]"
   ]
  },
  {
   "cell_type": "code",
   "execution_count": 12,
   "metadata": {},
   "outputs": [
    {
     "data": {
      "text/plain": [
       "['The Gridiron Dinner last night was great fun. I am accomplishing a lot in Washington and have never had a better ti… https://t.co/BZHVReTuYi',\n",
       " 'If the E.U. wants to further increase their already massive tariffs and barriers on U.S. companies doing business t… https://t.co/taytTlApWc',\n",
       " 'The United States has an $800 Billion Dollar Yearly Trade Deficit because of our “very stupid” trade deals and poli… https://t.co/nFF3vEmRmY',\n",
       " 'Mainstream Media in U.S. is being mocked all over the world. They’ve gone CRAZY! https://t.co/4UGYuJpUA7',\n",
       " 'Happy National Anthem Day! https://t.co/cf1eugMbKU',\n",
       " 'REST IN PEACE BILLY GRAHAM! https://t.co/2qMoUccVC2',\n",
       " 'When a country Taxes our products coming in at, say, 50%, and we Tax the same product coming into our country at ZE… https://t.co/UFVLaWepzN',\n",
       " 'We must protect our country and our workers. Our steel industry is in bad shape. IF YOU DON’T HAVE STEEL, YOU DON’T HAVE A COUNTRY!',\n",
       " 'Eric, we are all with you and your family! Look forward to seeing you back on T.V. https://t.co/d6y3Q00BSy',\n",
       " 'Alec Baldwin, whose dying mediocre career was saved by his terrible impersonation of me on SNL, now says playing me… https://t.co/Ntuy4BRXmJ',\n",
       " 'When a country (USA) is losing many billions of dollars on trade with virtually every country it does business with… https://t.co/lPSkkolNRP',\n",
       " 'Good (Great) meeting in the Oval Office tonight with the NRA!',\n",
       " 'RT @IvankaTrump: My OpEd on the importance of #YouthSports participation and how this Administration is seeking to lift barriers so all our…',\n",
       " 'RT @Scavino45: “Trump Comes Through — Saves $1.4 Billion On New Air Force One” https://t.co/cN3TAQywpR',\n",
       " 'Manufacturing growing at the fastest pace in almost two decades!',\n",
       " 'Jobless claims at a 49 year low!',\n",
       " 'Together, we will face this challenge as a national family with conviction, with unity, and with a commitment to lo… https://t.co/7sw39LHddj',\n",
       " '“Consumer Confidence in February Highest Since November 2000” https://t.co/UgAJRawExx',\n",
       " '“Manufacturing in U.S. Expands at Fastest Pace Since May 2004” https://t.co/XZkwS8tTml',\n",
       " 'Unemployment filings are at their lowest level in over 48 years. Great news for workers and JOBS, JOBS, JOBS! #MAGA https://t.co/SzHTarzfrW',\n",
       " 'The Gridiron Dinner last night was great fun. I am accomplishing a lot in Washington and have never had a better ti… https://t.co/BZHVReTuYi',\n",
       " 'If the E.U. wants to further increase their already massive tariffs and barriers on U.S. companies doing business t… https://t.co/taytTlApWc',\n",
       " 'The United States has an $800 Billion Dollar Yearly Trade Deficit because of our “very stupid” trade deals and poli… https://t.co/nFF3vEmRmY',\n",
       " 'Mainstream Media in U.S. is being mocked all over the world. They’ve gone CRAZY! https://t.co/4UGYuJpUA7',\n",
       " 'Happy National Anthem Day! https://t.co/cf1eugMbKU',\n",
       " 'REST IN PEACE BILLY GRAHAM! https://t.co/2qMoUccVC2',\n",
       " 'When a country Taxes our products coming in at, say, 50%, and we Tax the same product coming into our country at ZE… https://t.co/UFVLaWepzN',\n",
       " 'We must protect our country and our workers. Our steel industry is in bad shape. IF YOU DON’T HAVE STEEL, YOU DON’T HAVE A COUNTRY!',\n",
       " 'Eric, we are all with you and your family! Look forward to seeing you back on T.V. https://t.co/d6y3Q00BSy',\n",
       " 'Alec Baldwin, whose dying mediocre career was saved by his terrible impersonation of me on SNL, now says playing me… https://t.co/Ntuy4BRXmJ',\n",
       " 'When a country (USA) is losing many billions of dollars on trade with virtually every country it does business with… https://t.co/lPSkkolNRP',\n",
       " 'Good (Great) meeting in the Oval Office tonight with the NRA!',\n",
       " 'RT @IvankaTrump: My OpEd on the importance of #YouthSports participation and how this Administration is seeking to lift barriers so all our…',\n",
       " 'RT @Scavino45: “Trump Comes Through — Saves $1.4 Billion On New Air Force One” https://t.co/cN3TAQywpR',\n",
       " 'Manufacturing growing at the fastest pace in almost two decades!',\n",
       " 'Jobless claims at a 49 year low!',\n",
       " 'Together, we will face this challenge as a national family with conviction, with unity, and with a commitment to lo… https://t.co/7sw39LHddj',\n",
       " '“Consumer Confidence in February Highest Since November 2000” https://t.co/UgAJRawExx',\n",
       " '“Manufacturing in U.S. Expands at Fastest Pace Since May 2004” https://t.co/XZkwS8tTml',\n",
       " 'Unemployment filings are at their lowest level in over 48 years. Great news for workers and JOBS, JOBS, JOBS! #MAGA https://t.co/SzHTarzfrW',\n",
       " 'Our Steel and Aluminum industries (and many others) have been decimated by decades of unfair trade and bad policy w… https://t.co/OEgFJVYtCs',\n",
       " 'Many ideas, some good &amp; some not so good, emerged from our bipartisan meeting on school safety yesterday at the Whi… https://t.co/aJ2m3fH3y3',\n",
       " 'It was an honor to welcome bipartisan members of Congress for a discussion on SAFE schools and SAFE communities. As… https://t.co/EPB1EN3HRc',\n",
       " 'Today we honor Billy Graham as only three private citizens before him have been honored. \\n\\nWe say a prayer for our… https://t.co/CbrnqFwUuZ',\n",
       " 'Starting at a small Bible School in Florida, Billy Graham soon led a nationwide revival. From a large tent in Los A… https://t.co/rhhuOssGmf',\n",
       " 'Today, in the center of this great Chamber lies Billy Graham – an Ambassador for Christ who reminded the world of t… https://t.co/1pVcsV0cam',\n",
       " 'Why is A.G. Jeff Sessions asking the Inspector General to investigate potentially massive FISA abuse. Will take for… https://t.co/3tKywTn98g',\n",
       " '45 year low on illegal border crossings this year. Ice and Border Patrol Agents are doing a great job for our Count… https://t.co/Q6WZdxvUjS',\n",
       " 'I have decided that sections of the Wall that California wants built NOW will not be built until the whole Wall is… https://t.co/Vz6U6uS0Za',\n",
       " 'The Heritage Foundation has just stated that 64% of the Trump Agenda is already done, faster than even Ronald Reaga… https://t.co/MxsE3dtLnd',\n",
       " 'Big legal win today. U.S. judge sided with the Trump Administration and rejected the attempt to stop the government… https://t.co/zxoD3cKbaA',\n",
       " 'Such a beautiful map, thank you! https://t.co/FyQdgKvsRO',\n",
       " '.@SenatorWicker of Mississippi has been a great supporter and incredible help in getting our massive Tax Cut Bill d… https://t.co/NZAavAxY2F',\n",
       " 'Texas LC George P. Bush backed me when it wasn’t the politically correct thing to do, and I back him now. Also, AC… https://t.co/6YdVjdovKe',\n",
       " \"“American consumers are the most confident they've been since 2000....A strong job market is boosting confidence. T… https://t.co/jabPYi1Opc\",\n",
       " 'I want to encourage all of my many Texas friends to vote in the primary for Governor Greg Abbott, Senator Ted Cruz,… https://t.co/hhYhBC3fk8',\n",
       " 'WITCH HUNT!',\n",
       " '“We’ve seen NO EVIDENCE OF COLLUSION....I have seen nothing, the firing of James Comey and all of the aftermath, th… https://t.co/smYiwXrZnh',\n",
       " '“I’ve been skeptical about the collusion and obstruction claims for the last year. I just don’t see the evidence...… https://t.co/wUxgVpVTIN',\n",
       " '“He’s got a very good point. Somebody in the Justice Department has a treasure trove of evidence of Mrs. Clinton’s… https://t.co/IpmARu0gyP',\n",
       " 'RT @WhiteHouse: Merit-based immigration reform will benefit American workers and relieve the strain imposed by our current system on Federa…',\n",
       " 'RT @VollrathTammie: @realDonaldTrump @FoxNews https://t.co/sERi7Vyh5I',\n",
       " 'RT @FoxNews: President @realDonaldTrump on Dem FISA memo: \"A lot of bad things happened on the other side, not on this side, but the other…',\n",
       " 'RT @FoxNews: President @realDonaldTrump on DACA: \"I\\'m the one that\\'s pushing DACA and the Democrats are nowhere to be found.\" https://t.co/…',\n",
       " 'I will be interviewed by @JudgeJeanine on @FoxNews at 9:00 P.M. Enjoy!',\n",
       " '“Congressman Schiff omitted and distorted key facts” @FoxNews  So, what else is new. He is a total phony!',\n",
       " '“Russians had no compromising information on Donald Trump” @FoxNews  Of course not, because there is none, and neve… https://t.co/R9sniNq1ar',\n",
       " 'Dem Memo: FBI did not disclose who the clients were - the Clinton Campaign and the DNC. Wow!',\n",
       " 'The Democrat memo response on government surveillance abuses is a total political and legal BUST. Just confirms all… https://t.co/7xFWbPQ5Xh',\n",
       " 'BIG CPAC STRAW POLL RESULTS: 93% APPROVE OF THE JOB PRESIDENT TRUMP IS DOING (Thank you!). 50% say President Trump… https://t.co/QavF7yVap4',\n",
       " 'Dems are no longer talking DACA! “Out of sight, out of mind,” they say. DACA beneficiaries should not be happy. Nan… https://t.co/TZjolh9nkE',\n",
       " 'Unemployment claims are at the lowest level since 1973. Much of this has to do with the massive cutting of unnecess… https://t.co/3W7uDjmtZJ',\n",
       " 'Democrat judges have totally redrawn election lines in the great State of Pennsylvania. @FoxNews. This is very unfa… https://t.co/uErhBXPwuM',\n",
       " 'Armed Educators (and trusted people who work within a school) love our students and will protect them. Very smart p… https://t.co/wQSlkyUTzh',\n",
       " 'RT @realDonaldTrump: I will be strongly pushing Comprehensive Background Checks with an emphasis on Mental Health. Raise age to 21 and end…',\n",
       " 'So true Wayne, and Lowest black unemployment in history! https://t.co/gDxxJdZQUm',\n",
       " 'Thank you to the great men and women of the United States @SecretService for a job well done!',\n",
       " 'Today, @FLOTUS Melania and I were honored to welcome Prime Minister @TurnbullMalcolm and Mrs. Turnbull of Australia… https://t.co/PeVPje9xba',\n",
       " 'Our nation’s motto is IN GOD WE TRUST. This week, our nation lost an incredible leader who devoted his life to help… https://t.co/gQzYg1Xq8r',\n",
       " 'We salute our great American flag, we put our hands on our hearts for the pledge of Allegiance, and we all PROUDLY… https://t.co/BoR8a2Kn29',\n",
       " 'After years of rebuilding OTHER nations, we are finally rebuilding OUR nation - and we are restoring our confidence… https://t.co/LXqvjEMR5D',\n",
       " 'For those of you who are still interested, the Democrats have totally forgotten about DACA. Not a lot of interest on this subject from them!',\n",
       " 'My daughter, Ivanka, just arrived in South Korea. We cannot have a better, or smarter, person representing our country.',\n",
       " 'CPAC Today!',\n",
       " 'MS-13 gang members are being removed by our Great ICE and Border Patrol Agents by the thousands, but these killers… https://t.co/ktMXRRb97k',\n",
       " '“School shooting survivor says he quit @CNN Town Hall after refusing scripted question.” @TuckerCarlson. Just like… https://t.co/wDQm1urt9V',\n",
       " 'Today, it was my great honor to host a School Safety Roundtable at the @WhiteHouse with State and local leaders, la… https://t.co/BtEV9OqmNJ',\n",
       " \"On behalf of an entire Nation, CONGRATULATIONS to the U.S. Women's Hockey Team on winning the GOLD! #GoTeamUSA… https://t.co/1dpsf8yqdq\",\n",
       " 'Will be meeting with Lawmakers today at 11:30 A.M. to discuss School Safety.  Next week it will be with our Nation’… https://t.co/USyL5x0ujR',\n",
       " 'What many people don’t understand, or don’t want to understand, is that Wayne, Chris and the folks who work so hard… https://t.co/4I87uxDsqD',\n",
       " 'I will be strongly pushing Comprehensive Background Checks with an emphasis on Mental Health. Raise age to 21 and e… https://t.co/5zKlGxnVTc',\n",
       " '....If a potential “sicko shooter” knows that a school has a large number of very weapons talented teachers (and ot… https://t.co/NTnUcZxrle',\n",
       " '....History shows that a school shooting lasts, on average, 3 minutes. It takes police &amp; first responders approxima… https://t.co/v68k63he25',\n",
       " '....immediately fire back if a savage sicko came to a school with bad intentions. Highly trained teachers would als… https://t.co/wyg77QWPfn',\n",
       " 'I never said “give teachers guns” like was stated on Fake News @CNN &amp; @NBC. What I said was to look at the possibil… https://t.co/Tvi4fzLbCA',\n",
       " 'I will always remember the time I spent today with courageous students, teachers and families. So much love in the… https://t.co/u8ZYPzhp2S',\n",
       " '.@FLOTUS Melania and I join millions of people around the world in mourning the passing of Billy Graham. Our prayer… https://t.co/Q8BrGTiHuP',\n",
       " 'Yesterday, it was my great honor to recognize extraordinary Law Enforcement Officers and First Responders, and to a… https://t.co/PsfNaJrfEB',\n",
       " 'Question: If all of the Russian meddling took place during the Obama Administration, right up to January 20th, why… https://t.co/dquN8v8VwU',\n",
       " 'The GREAT Billy Graham is dead. There was nobody like him! He will be missed by Christians and all religions. A very special man.']"
      ]
     },
     "execution_count": 12,
     "metadata": {},
     "output_type": "execute_result"
    }
   ],
   "source": [
    "tweet_text"
   ]
  },
  {
   "cell_type": "code",
   "execution_count": 14,
   "metadata": {},
   "outputs": [],
   "source": [
    "compound_realdonaldtrump=[]\n",
    "for bbctweet in tweet_text:\n",
    "    results = analyzer.polarity_scores(bbctweet)\n",
    "    compound = results[\"compound\"]\n",
    "    compound_realdonaldtrump.append(compound)"
   ]
  },
  {
   "cell_type": "code",
   "execution_count": 15,
   "metadata": {},
   "outputs": [
    {
     "data": {
      "image/png": "[encoded data removed]",
      "text/plain": [
       "<matplotlib.figure.Figure at 0x1091200b8>"
      ]
     },
     "metadata": {},
     "output_type": "display_data"
    }
   ],
   "source": [
    "plt.figure(figsize=(10, 10))\n",
    "plt.scatter(x = range(100), y =compound_realdonaldtrump, label=\"realDonaldTrump\")\n",
    "plt.xlim(100, -1)\n",
    "plt.xlabel(\"tweets ago\")\n",
    "plt.ylabel(\"tweets popularity\")\n",
    "plt.title(\"Sentiment Analysis of Media Tweets\")\n",
    "plt.legend()\n",
    "\n",
    "plt.show()\n"
   ]
  },
  {
   "cell_type": "code",
   "execution_count": 16,
   "metadata": {
    "collapsed": true
   },
   "outputs": [],
   "source": [
    "realdonaldtrump_mean = numpy.mean(compound_realdonaldtrump)"
   ]
  },
  {
   "cell_type": "code",
   "execution_count": 21,
   "metadata": {},
   "outputs": [
    {
     "data": {
      "image/png": "[encoded data removed]",
      "text/plain": [
       "<matplotlib.figure.Figure at 0x10b168940>"
      ]
     },
     "metadata": {},
     "output_type": "display_data"
    }
   ],
   "source": [
    "realdonaldtrump_mean = numpy.mean(compound_realdonaldtrump)\n",
    "plt.bar(left=1, height= realdonaldtrump_mean, color=\"skyblue\")\n",
    "plt.show()"
   ]
  },
  {
   "cell_type": "code",
   "execution_count": null,
   "metadata": {
    "collapsed": true
   },
   "outputs": [],
   "source": []
  }
 ],
 "metadata": {
  "kernelspec": {
   "display_name": "Python 3",
   "language": "python",
   "name": "python3"
  },
  "language_info": {
   "codemirror_mode": {
    "name": "ipython",
    "version": 3
   },
   "file_extension": ".py",
   "mimetype": "text/x-python",
   "name": "python",
   "nbconvert_exporter": "python",
   "pygments_lexer": "ipython3",
   "version": "3.6.2"
  }
 },
 "nbformat": 4,
 "nbformat_minor": 2
}
