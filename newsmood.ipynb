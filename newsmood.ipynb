{
 "cells": [
  {
   "cell_type": "code",
   "execution_count": 3,
   "metadata": {
    "collapsed": true
   },
   "outputs": [],
   "source": [
    "# Initialize Sentiment Analyzer \n",
    "from vaderSentiment.vaderSentiment import SentimentIntensityAnalyzer\n",
    "import tweepy\n",
    "import time\n",
    "import pandas \n",
    "import matplotlib.pyplot as plt\n",
    "import requests as req\n",
    "import json\n",
    "import random \n",
    "import numpy\n",
    "analyzer = SentimentIntensityAnalyzer()\n",
    "consumer_key =\"OXIssui06lxnfblyDvyggPZDf\"\n",
    "consumer_secret =\"NrYzmgtyU9grTqJPXR1I9VRMJZ7ViIaYluLLSpqa0bQZ713Rli\"\n",
    "access_token =\"326281341-haVlmBoQsZbodflSAbbunuRwnqvuOEynygFeu4XZ\"\n",
    "access_secret = \"askACO40IXdUOqMvVcIEGW5lO1gW8zMwOUkGYeEa80XCK\"\n",
    "\n",
    "auth = tweepy.OAuthHandler(consumer_key, consumer_secret)\n",
    "auth.set_access_token(access_token, access_secret)\n",
    "api = tweepy.API(auth, parser=tweepy.parsers.JSONParser())\n"
   ]
  },
  {
   "cell_type": "code",
   "execution_count": 4,
   "metadata": {},
   "outputs": [],
   "source": [
    "target_user = \"BBCWorld\"\n",
    "public_tweets = api.user_timeline(target_user)\n",
    "tweet_text=[]\n",
    "for tweet in public_tweets:\n",
    "    text = tweet[\"text\"]\n",
    "    tweet_text.append(text)\n",
    "\n",
    "\n",
    "# BBC (@BBCWorld) \n",
    "# CBS (@CBSNews)\n",
    "# CNN (@cnn)\n",
    "# Fox (@foxnews)\n",
    "# New York times (@nytimes)\n"
   ]
  },
  {
   "cell_type": "code",
   "execution_count": 5,
   "metadata": {},
   "outputs": [
    {
     "data": {
      "text/plain": [
       "20"
      ]
     },
     "execution_count": 5,
     "metadata": {},
     "output_type": "execute_result"
    }
   ],
   "source": [
    "len(tweet_text)"
   ]
  },
  {
   "cell_type": "code",
   "execution_count": 6,
   "metadata": {},
   "outputs": [
    {
     "data": {
      "text/plain": [
       "\"Peru's ex-President Fujimori ordered to stand trial again https://t.co/f8iDpXWOkY\""
      ]
     },
     "execution_count": 6,
     "metadata": {},
     "output_type": "execute_result"
    }
   ],
   "source": [
    "tweet_text[0]"
   ]
  },
  {
   "cell_type": "code",
   "execution_count": 7,
   "metadata": {
    "collapsed": true
   },
   "outputs": [],
   "source": [
    "compound_bbc=[]\n",
    "for bbctweet in tweet_text:\n",
    "    results = analyzer.polarity_scores(bbctweet)\n",
    "    compound = results[\"compound\"]\n",
    "    compound_bbc.append(compound)"
   ]
  },
  {
   "cell_type": "code",
   "execution_count": 10,
   "metadata": {},
   "outputs": [],
   "source": [
    "target_user = \"CBSNews\"\n",
    "public_tweets = api.user_timeline(target_user)\n",
    "tweet_text=[]\n",
    "for tweet in public_tweets:\n",
    "    text = tweet[\"text\"]\n",
    "    tweet_text.append(text)"
   ]
  },
  {
   "cell_type": "code",
   "execution_count": 12,
   "metadata": {},
   "outputs": [],
   "source": [
    "compound_cbs=[]\n",
    "for cbstweet in tweet_text:\n",
    "    results = analyzer.polarity_scores(cbstweet)\n",
    "    compound = results[\"compound\"]\n",
    "    compound_cbs.append(compound)"
   ]
  },
  {
   "cell_type": "code",
   "execution_count": 13,
   "metadata": {
    "collapsed": true
   },
   "outputs": [],
   "source": [
    "target_user = \"cnn\"\n",
    "public_tweets = api.user_timeline(target_user)\n",
    "tweet_text=[]\n",
    "for tweet in public_tweets:\n",
    "    text = tweet[\"text\"]\n",
    "    tweet_text.append(text)"
   ]
  },
  {
   "cell_type": "code",
   "execution_count": 15,
   "metadata": {},
   "outputs": [],
   "source": [
    "compound_cnn=[]\n",
    "for cnntweet in tweet_text:\n",
    "    results = analyzer.polarity_scores(cnntweet)\n",
    "    compound = results[\"compound\"]\n",
    "    compound_cnn.append(compound)"
   ]
  },
  {
   "cell_type": "code",
   "execution_count": 16,
   "metadata": {
    "collapsed": true
   },
   "outputs": [],
   "source": [
    "target_user = \"foxnews\"\n",
    "public_tweets = api.user_timeline(target_user)\n",
    "tweet_text=[]\n",
    "for tweet in public_tweets:\n",
    "    text = tweet[\"text\"]\n",
    "    tweet_text.append(text)"
   ]
  },
  {
   "cell_type": "code",
   "execution_count": 34,
   "metadata": {
    "collapsed": true
   },
   "outputs": [],
   "source": [
    "compound_fox=[]\n",
    "for foxtweet in tweet_text:\n",
    "    results = analyzer.polarity_scores(foxtweet)\n",
    "    compound = results[\"compound\"]\n",
    "    compound_fox.append(compound)"
   ]
  },
  {
   "cell_type": "code",
   "execution_count": 35,
   "metadata": {},
   "outputs": [],
   "source": [
    "target_user = \"nytimes\"\n",
    "public_tweets = api.user_timeline(target_user)\n",
    "tweet_text=[]\n",
    "for tweet in public_tweets:\n",
    "    text = tweet[\"text\"]\n",
    "    tweet_text.append(text)"
   ]
  },
  {
   "cell_type": "code",
   "execution_count": 40,
   "metadata": {},
   "outputs": [],
   "source": [
    "compound_nytimes=[]\n",
    "for nytimestweet in tweet_text:\n",
    "    results = analyzer.polarity_scores(nytimestweet)\n",
    "    compound = results[\"compound\"]\n",
    "    compound_nytimes.append(compound)"
   ]
  },
  {
   "cell_type": "code",
   "execution_count": null,
   "metadata": {},
   "outputs": [],
   "source": []
  }
 ],
 "metadata": {
  "kernelspec": {
   "display_name": "Python 3",
   "language": "python",
   "name": "python3"
  },
  "language_info": {
   "codemirror_mode": {
    "name": "ipython",
    "version": 3
   },
   "file_extension": ".py",
   "mimetype": "text/x-python",
   "name": "python",
   "nbconvert_exporter": "python",
   "pygments_lexer": "ipython3",
   "version": "3.6.2"
  }
 },
 "nbformat": 4,
 "nbformat_minor": 2
}
