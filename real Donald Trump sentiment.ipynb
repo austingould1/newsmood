{
 "cells": [
  {
   "cell_type": "code",
   "execution_count": 1,
   "metadata": {
    "collapsed": true
   },
   "outputs": [],
   "source": [
    "# Initialize Sentiment Analyzer \n",
    "from vaderSentiment.vaderSentiment import SentimentIntensityAnalyzer\n",
    "import tweepy\n",
    "import time\n",
    "import pandas \n",
    "import matplotlib.pyplot as plt\n",
    "import requests as req\n",
    "import json\n",
    "import random \n",
    "import numpy\n",
    "analyzer = SentimentIntensityAnalyzer()\n",
    "consumer_key =\"OXIssui06lxnfblyDvyggPZDf\"\n",
    "consumer_secret =\"NrYzmgtyU9grTqJPXR1I9VRMJZ7ViIaYluLLSpqa0bQZ713Rli\"\n",
    "access_token =\"326281341-haVlmBoQsZbodflSAbbunuRwnqvuOEynygFeu4XZ\"\n",
    "access_secret = \"askACO40IXdUOqMvVcIEGW5lO1gW8zMwOUkGYeEa80XCK\"\n",
    "\n",
    "auth = tweepy.OAuthHandler(consumer_key, consumer_secret)\n",
    "auth.set_access_token(access_token, access_secret)\n",
    "api = tweepy.API(auth, parser=tweepy.parsers.JSONParser())"
   ]
  },
  {
   "cell_type": "code",
   "execution_count": 2,
   "metadata": {
    "collapsed": true
   },
   "outputs": [],
   "source": [
    "target_user = \"realDonaldTrump\"\n",
    "tweet_text=[]\n",
    "for x in range(5):\n",
    "    public_tweets = api.user_timeline(target_user, page=x)\n",
    "   \n",
    "    for tweet in public_tweets:\n",
    "        text = tweet[\"text\"]\n",
    "        tweet_text.append(text)\n"
   ]
  },
  {
   "cell_type": "code",
   "execution_count": 3,
   "metadata": {},
   "outputs": [
    {
     "data": {
      "text/plain": [
       "100"
      ]
     },
     "execution_count": 3,
     "metadata": {},
     "output_type": "execute_result"
    }
   ],
   "source": [
    "len(tweet_text)"
   ]
  },
  {
   "cell_type": "code",
   "execution_count": 4,
   "metadata": {},
   "outputs": [
    {
     "data": {
      "text/plain": [
       "'That’s right @RepBost! Thank you for your support in helping put America back to work. It’s about JOBS, JOBS, JOBS… https://t.co/5WKHqkpAj9'"
      ]
     },
     "execution_count": 4,
     "metadata": {},
     "output_type": "execute_result"
    }
   ],
   "source": [
    "tweet_text[0]"
   ]
  },
  {
   "cell_type": "code",
   "execution_count": 5,
   "metadata": {},
   "outputs": [
    {
     "data": {
      "text/plain": [
       "['That’s right @RepBost! Thank you for your support in helping put America back to work. It’s about JOBS, JOBS, JOBS… https://t.co/5WKHqkpAj9',\n",
       " 'Look forward to being in Pennsylvania tomorrow in support of Rick @Saccone4PA18. Big crowd expected in Moon Townshi… https://t.co/AJaYw4PstI',\n",
       " 'JOBS, JOBS, JOBS! #MAGA https://t.co/YAaqRcA7ZS',\n",
       " 'Kim Jong Un talked about denuclearization with the South Korean Representatives, not just a freeze. Also, no missil… https://t.co/ZLg0zRZ976',\n",
       " '“Presidential Proclamation on Adjusting Imports of Aluminum into the United States” \\n \\nProclamation:… https://t.co/2GahSEcox6',\n",
       " '“Presidential Proclamation on Adjusting Imports of Steel into the United States”\\n \\nProclamation:… https://t.co/hQNfSTdFS2',\n",
       " 'Great meeting with @Cabinet at the @WhiteHouse today! #MAGA https://t.co/InWj0QTosz',\n",
       " 'Happy #InternationalWomensDay\\n\\n“First Lady Melania Trump to Present the 2018 International Women of Courage Award” https://t.co/EwYtFXGvn2',\n",
       " 'Looking forward to 3:30 P.M. meeting today at the White House. We have to protect &amp; build our Steel and Aluminum In… https://t.co/TOvuYY0vmd',\n",
       " 'The U.S. is acting swiftly on Intellectual Property theft. We cannot allow this to happen as it has for many years!',\n",
       " 'China has been asked to develop a plan for the year of a One Billion Dollar reduction in their massive Trade Defici… https://t.co/D2TzeyTmqX',\n",
       " 'From Bush 1 to present, our Country has lost more than 55,000 factories, 6,000,000 manufacturing jobs and accumulat… https://t.co/PqL7IA75c4',\n",
       " '@MarkBurnettTV @RealRomaDowney From Bush 1 to present, our Country has lost more than 55,000 factories, 6,000,000 m… https://t.co/ZWsYQugFPk',\n",
       " 'Great couple, great book! https://t.co/cLDI79rin8',\n",
       " 'Will be making a decision soon on the appointment of new Chief Economic Advisor. Many people wanting the job - will choose wisely!',\n",
       " 'Possible progress being made in talks with North Korea. For the first time in many years, a serious effort is being… https://t.co/17I9VFMLrI',\n",
       " 'Federal Judge in Maryland has just ruled that “President Trump has the right to end DACA.” President Obama had 8 ye… https://t.co/Coh1fflMxK',\n",
       " 'Lowest rated Oscars in HISTORY. Problem is, we don’t have Stars anymore - except your President (just kidding, of course)!',\n",
       " 'RT @EricTrump: Congratulations @FoxNews: Fox has 15 of the top 20 shows with @SeanHannity and @TuckerCarlson leading the pack at 1st and 2n…',\n",
       " 'We will see what happens! https://t.co/Y1qxoAUfd9',\n",
       " 'That’s right @RepBost! Thank you for your support in helping put America back to work. It’s about JOBS, JOBS, JOBS… https://t.co/5WKHqkpAj9',\n",
       " 'Look forward to being in Pennsylvania tomorrow in support of Rick @Saccone4PA18. Big crowd expected in Moon Townshi… https://t.co/AJaYw4PstI',\n",
       " 'JOBS, JOBS, JOBS! #MAGA https://t.co/YAaqRcA7ZS',\n",
       " 'Kim Jong Un talked about denuclearization with the South Korean Representatives, not just a freeze. Also, no missil… https://t.co/ZLg0zRZ976',\n",
       " '“Presidential Proclamation on Adjusting Imports of Aluminum into the United States” \\n \\nProclamation:… https://t.co/2GahSEcox6',\n",
       " '“Presidential Proclamation on Adjusting Imports of Steel into the United States”\\n \\nProclamation:… https://t.co/hQNfSTdFS2',\n",
       " 'Great meeting with @Cabinet at the @WhiteHouse today! #MAGA https://t.co/InWj0QTosz',\n",
       " 'Happy #InternationalWomensDay\\n\\n“First Lady Melania Trump to Present the 2018 International Women of Courage Award” https://t.co/EwYtFXGvn2',\n",
       " 'Looking forward to 3:30 P.M. meeting today at the White House. We have to protect &amp; build our Steel and Aluminum In… https://t.co/TOvuYY0vmd',\n",
       " 'The U.S. is acting swiftly on Intellectual Property theft. We cannot allow this to happen as it has for many years!',\n",
       " 'China has been asked to develop a plan for the year of a One Billion Dollar reduction in their massive Trade Defici… https://t.co/D2TzeyTmqX',\n",
       " 'From Bush 1 to present, our Country has lost more than 55,000 factories, 6,000,000 manufacturing jobs and accumulat… https://t.co/PqL7IA75c4',\n",
       " '@MarkBurnettTV @RealRomaDowney From Bush 1 to present, our Country has lost more than 55,000 factories, 6,000,000 m… https://t.co/ZWsYQugFPk',\n",
       " 'Great couple, great book! https://t.co/cLDI79rin8',\n",
       " 'Will be making a decision soon on the appointment of new Chief Economic Advisor. Many people wanting the job - will choose wisely!',\n",
       " 'Possible progress being made in talks with North Korea. For the first time in many years, a serious effort is being… https://t.co/17I9VFMLrI',\n",
       " 'Federal Judge in Maryland has just ruled that “President Trump has the right to end DACA.” President Obama had 8 ye… https://t.co/Coh1fflMxK',\n",
       " 'Lowest rated Oscars in HISTORY. Problem is, we don’t have Stars anymore - except your President (just kidding, of course)!',\n",
       " 'RT @EricTrump: Congratulations @FoxNews: Fox has 15 of the top 20 shows with @SeanHannity and @TuckerCarlson leading the pack at 1st and 2n…',\n",
       " 'We will see what happens! https://t.co/Y1qxoAUfd9',\n",
       " 'We are getting it done - jobs and security! https://t.co/Ui8bubj7Yr',\n",
       " 'Total inaction on DACA by Dems. Where are you? A deal can be made!',\n",
       " 'The new Fake News narrative is that there is CHAOS in the White House. Wrong! People will always come &amp; go, and I w… https://t.co/gZx40h1psF',\n",
       " 'It’s March 5th and the Democrats are nowhere to be found on DACA. Gave them 6 months, they just don’t care. Where a… https://t.co/VuCAvyGCb7',\n",
       " 'Why did the Obama Administration start an investigation into the Trump Campaign (with zero proof of wrongdoing) lon… https://t.co/YyfQtgZMpn',\n",
       " 'To protect our Country we must protect American Steel! #AMERICA FIRST',\n",
       " '...treat our farmers much better. Highly restrictive. Mexico must do much more on stopping drugs from pouring into… https://t.co/7Bmn1xy747',\n",
       " 'We have large trade deficits with Mexico and Canada. NAFTA, which is under renegotiation right now, has been a bad… https://t.co/SdLj0DaHLu',\n",
       " 'We are on the losing side of almost all trade deals. Our friends and enemies have taken advantage of the U.S. for m… https://t.co/kTZHwXqeMy',\n",
       " 'The Gridiron Dinner last night was great fun. I am accomplishing a lot in Washington and have never had a better ti… https://t.co/BZHVReTuYi',\n",
       " 'If the E.U. wants to further increase their already massive tariffs and barriers on U.S. companies doing business t… https://t.co/taytTlApWc',\n",
       " 'The United States has an $800 Billion Dollar Yearly Trade Deficit because of our “very stupid” trade deals and poli… https://t.co/nFF3vEmRmY',\n",
       " 'Mainstream Media in U.S. is being mocked all over the world. They’ve gone CRAZY! https://t.co/4UGYuJpUA7',\n",
       " 'Happy National Anthem Day! https://t.co/cf1eugMbKU',\n",
       " 'REST IN PEACE BILLY GRAHAM! https://t.co/2qMoUccVC2',\n",
       " 'When a country Taxes our products coming in at, say, 50%, and we Tax the same product coming into our country at ZE… https://t.co/UFVLaWepzN',\n",
       " 'We must protect our country and our workers. Our steel industry is in bad shape. IF YOU DON’T HAVE STEEL, YOU DON’T HAVE A COUNTRY!',\n",
       " 'Eric, we are all with you and your family! Look forward to seeing you back on T.V. https://t.co/d6y3Q00BSy',\n",
       " 'Alec Baldwin, whose dying mediocre career was saved by his terrible impersonation of me on SNL, now says playing me… https://t.co/Ntuy4BRXmJ',\n",
       " 'When a country (USA) is losing many billions of dollars on trade with virtually every country it does business with… https://t.co/lPSkkolNRP',\n",
       " 'Good (Great) meeting in the Oval Office tonight with the NRA!',\n",
       " 'RT @IvankaTrump: My OpEd on the importance of #YouthSports participation and how this Administration is seeking to lift barriers so all our…',\n",
       " 'RT @Scavino45: “Trump Comes Through — Saves $1.4 Billion On New Air Force One” https://t.co/cN3TAQywpR',\n",
       " 'Manufacturing growing at the fastest pace in almost two decades!',\n",
       " 'Jobless claims at a 49 year low!',\n",
       " 'Together, we will face this challenge as a national family with conviction, with unity, and with a commitment to lo… https://t.co/7sw39LHddj',\n",
       " '“Consumer Confidence in February Highest Since November 2000” https://t.co/UgAJRawExx',\n",
       " '“Manufacturing in U.S. Expands at Fastest Pace Since May 2004” https://t.co/XZkwS8tTml',\n",
       " 'Unemployment filings are at their lowest level in over 48 years. Great news for workers and JOBS, JOBS, JOBS! #MAGA https://t.co/SzHTarzfrW',\n",
       " 'Our Steel and Aluminum industries (and many others) have been decimated by decades of unfair trade and bad policy w… https://t.co/OEgFJVYtCs',\n",
       " 'Many ideas, some good &amp; some not so good, emerged from our bipartisan meeting on school safety yesterday at the Whi… https://t.co/aJ2m3fH3y3',\n",
       " 'It was an honor to welcome bipartisan members of Congress for a discussion on SAFE schools and SAFE communities. As… https://t.co/EPB1EN3HRc',\n",
       " 'Today we honor Billy Graham as only three private citizens before him have been honored. \\n\\nWe say a prayer for our… https://t.co/CbrnqFwUuZ',\n",
       " 'Starting at a small Bible School in Florida, Billy Graham soon led a nationwide revival. From a large tent in Los A… https://t.co/rhhuOssGmf',\n",
       " 'Today, in the center of this great Chamber lies Billy Graham – an Ambassador for Christ who reminded the world of t… https://t.co/1pVcsV0cam',\n",
       " 'Why is A.G. Jeff Sessions asking the Inspector General to investigate potentially massive FISA abuse. Will take for… https://t.co/3tKywTn98g',\n",
       " '45 year low on illegal border crossings this year. Ice and Border Patrol Agents are doing a great job for our Count… https://t.co/Q6WZdxvUjS',\n",
       " 'I have decided that sections of the Wall that California wants built NOW will not be built until the whole Wall is… https://t.co/Vz6U6uS0Za',\n",
       " 'The Heritage Foundation has just stated that 64% of the Trump Agenda is already done, faster than even Ronald Reaga… https://t.co/MxsE3dtLnd',\n",
       " 'Big legal win today. U.S. judge sided with the Trump Administration and rejected the attempt to stop the government… https://t.co/zxoD3cKbaA',\n",
       " 'Such a beautiful map, thank you! https://t.co/FyQdgKvsRO',\n",
       " '.@SenatorWicker of Mississippi has been a great supporter and incredible help in getting our massive Tax Cut Bill d… https://t.co/NZAavAxY2F',\n",
       " 'Texas LC George P. Bush backed me when it wasn’t the politically correct thing to do, and I back him now. Also, AC… https://t.co/6YdVjdovKe',\n",
       " \"“American consumers are the most confident they've been since 2000....A strong job market is boosting confidence. T… https://t.co/jabPYi1Opc\",\n",
       " 'I want to encourage all of my many Texas friends to vote in the primary for Governor Greg Abbott, Senator Ted Cruz,… https://t.co/hhYhBC3fk8',\n",
       " 'WITCH HUNT!',\n",
       " '“We’ve seen NO EVIDENCE OF COLLUSION....I have seen nothing, the firing of James Comey and all of the aftermath, th… https://t.co/smYiwXrZnh',\n",
       " '“I’ve been skeptical about the collusion and obstruction claims for the last year. I just don’t see the evidence...… https://t.co/wUxgVpVTIN',\n",
       " '“He’s got a very good point. Somebody in the Justice Department has a treasure trove of evidence of Mrs. Clinton’s… https://t.co/IpmARu0gyP',\n",
       " 'RT @WhiteHouse: Merit-based immigration reform will benefit American workers and relieve the strain imposed by our current system on Federa…',\n",
       " 'RT @VollrathTammie: @realDonaldTrump @FoxNews https://t.co/sERi7Vyh5I',\n",
       " 'RT @FoxNews: President @realDonaldTrump on Dem FISA memo: \"A lot of bad things happened on the other side, not on this side, but the other…',\n",
       " 'RT @FoxNews: President @realDonaldTrump on DACA: \"I\\'m the one that\\'s pushing DACA and the Democrats are nowhere to be found.\" https://t.co/…',\n",
       " 'I will be interviewed by @JudgeJeanine on @FoxNews at 9:00 P.M. Enjoy!',\n",
       " '“Congressman Schiff omitted and distorted key facts” @FoxNews  So, what else is new. He is a total phony!',\n",
       " '“Russians had no compromising information on Donald Trump” @FoxNews  Of course not, because there is none, and neve… https://t.co/R9sniNq1ar',\n",
       " 'Dem Memo: FBI did not disclose who the clients were - the Clinton Campaign and the DNC. Wow!',\n",
       " 'The Democrat memo response on government surveillance abuses is a total political and legal BUST. Just confirms all… https://t.co/7xFWbPQ5Xh',\n",
       " 'BIG CPAC STRAW POLL RESULTS: 93% APPROVE OF THE JOB PRESIDENT TRUMP IS DOING (Thank you!). 50% say President Trump… https://t.co/QavF7yVap4',\n",
       " 'Dems are no longer talking DACA! “Out of sight, out of mind,” they say. DACA beneficiaries should not be happy. Nan… https://t.co/TZjolh9nkE']"
      ]
     },
     "execution_count": 5,
     "metadata": {},
     "output_type": "execute_result"
    }
   ],
   "source": [
    "tweet_text"
   ]
  },
  {
   "cell_type": "code",
   "execution_count": 6,
   "metadata": {
    "collapsed": true
   },
   "outputs": [],
   "source": [
    "compound_realdonaldtrump=[]\n",
    "for bbctweet in tweet_text:\n",
    "    results = analyzer.polarity_scores(bbctweet)\n",
    "    compound = results[\"compound\"]\n",
    "    compound_realdonaldtrump.append(compound)"
   ]
  },
  {
   "cell_type": "code",
   "execution_count": 7,
   "metadata": {},
   "outputs": [
    {
     "data": {
      "image/png": "[encoded data removed]",
      "text/plain": [
       "<matplotlib.figure.Figure at 0x10f056320>"
      ]
     },
     "metadata": {},
     "output_type": "display_data"
    }
   ],
   "source": [
    "plt.figure(figsize=(10, 10))\n",
    "plt.scatter(x = range(100), y =compound_realdonaldtrump, label=\"realDonaldTrump\")\n",
    "plt.xlim(100, -1)\n",
    "plt.xlabel(\"tweets ago\")\n",
    "plt.ylabel(\"tweets popularity\")\n",
    "plt.title(\"Sentiment Analysis of Media Tweets\")\n",
    "plt.legend()\n",
    "\n",
    "plt.show()\n"
   ]
  },
  {
   "cell_type": "code",
   "execution_count": 8,
   "metadata": {
    "collapsed": true
   },
   "outputs": [],
   "source": [
    "realdonaldtrump_mean = numpy.mean(compound_realdonaldtrump)"
   ]
  },
  {
   "cell_type": "code",
   "execution_count": 9,
   "metadata": {},
   "outputs": [
    {
     "data": {
      "image/png": "[encoded data removed]",
      "text/plain": [
       "<matplotlib.figure.Figure at 0x112eb40f0>"
      ]
     },
     "metadata": {},
     "output_type": "display_data"
    }
   ],
   "source": [
    "realdonaldtrump_mean = numpy.mean(compound_realdonaldtrump)\n",
    "plt.bar(left=1, height= realdonaldtrump_mean, color=\"skyblue\")\n",
    "plt.show()"
   ]
  },
  {
   "cell_type": "code",
   "execution_count": null,
   "metadata": {
    "collapsed": true
   },
   "outputs": [],
   "source": []
  },
  {
   "cell_type": "code",
   "execution_count": null,
   "metadata": {
    "collapsed": true
   },
   "outputs": [],
   "source": []
  }
 ],
 "metadata": {
  "kernelspec": {
   "display_name": "Python 3",
   "language": "python",
   "name": "python3"
  },
  "language_info": {
   "codemirror_mode": {
    "name": "ipython",
    "version": 3
   },
   "file_extension": ".py",
   "mimetype": "text/x-python",
   "name": "python",
   "nbconvert_exporter": "python",
   "pygments_lexer": "ipython3",
   "version": "3.6.2"
  }
 },
 "nbformat": 4,
 "nbformat_minor": 2
}
